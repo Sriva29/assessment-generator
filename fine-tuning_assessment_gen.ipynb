{
 "cells": [
  {
   "cell_type": "markdown",
   "metadata": {},
   "source": [
    "Assessment Generator\n",
    "- by Srivatsan Rangarajan"
   ]
  },
  {
   "cell_type": "markdown",
   "metadata": {},
   "source": [
    "## Project Goal\n",
    "\n",
    "I generated 500 questions using AI. I have done this 10 questions at a time to ensure a minimum threshold of quality.\n",
    "Unfortunately, despite prompting each time and using the latest ChatGPT 4.5 version, all questions have the same issue: The correct answer is the longest. \n",
    "\n",
    "In an age where SMEs are encouraged to use AI to create assessments and skip the learning designer review stage, it's important that the AI generates good assessments that do not have obvious giveaways.\n",
    "\n",
    "The goal of this project is to "
   ]
  },
  {
   "cell_type": "markdown",
   "metadata": {},
   "source": [
    "## Importing the dataset and preprocessing"
   ]
  },
  {
   "cell_type": "code",
   "execution_count": null,
   "metadata": {},
   "outputs": [],
   "source": []
  }
 ],
 "metadata": {
  "language_info": {
   "name": "python"
  }
 },
 "nbformat": 4,
 "nbformat_minor": 2
}
